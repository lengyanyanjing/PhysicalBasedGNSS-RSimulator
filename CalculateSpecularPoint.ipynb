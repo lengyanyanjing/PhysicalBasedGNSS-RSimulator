{
 "cells": [
  {
   "cell_type": "markdown",
   "metadata": {},
   "source": [
    "# calculate the specular point on the surface of earth\n",
    "\n",
    "The idear from Scotte Gleason from the GNSS Applications and Methods, first, the location of receiver and transmitor should be known."
   ]
  },
  {
   "cell_type": "code",
   "execution_count": 2,
   "metadata": {},
   "outputs": [],
   "source": [
    "import math\n",
    "import numpy as np\n",
    "import scipy.constants as const\n",
    "from scipy.linalg import norm\n",
    "import scipy.io as sio    \n",
    "import matplotlib.pyplot as plt "
   ]
  },
  {
   "cell_type": "code",
   "execution_count": 7,
   "metadata": {},
   "outputs": [],
   "source": [
    "# coordinates conversion from WGS-84 to Geodetic coordinates\n",
    "def xyz2llh(xyz_pos):\n",
    "    llh=np.zeros(3);\n",
    "    # constants\n",
    "    f = 1/298.257223563;        #   WGS-84 Flattening.\n",
    "    e2 = f*(2.0-f); \n",
    "    print(e2)\n",
    "    a = 6378137.0;              #   WGS-84 equatorial radius (m).                            \n",
    "\n",
    "    r2=np.dot(xyz_pos[:2],xyz_pos[:2]);\n",
    "    z=xyz_pos[2];\n",
    "    zk=0.0;\n",
    "    while(abs(z-zk)):\n",
    "        zk=z;\n",
    "        sinp=z/math.sqrt(r2+z*z);\n",
    "        v=a/math.sqrt(1.0-e2*sinp*sinp);\n",
    "        z=xyz_pos[2]+v*e2*sinp;\n",
    "        \n",
    "    llh[0]= math.atan(z/math.sqrt(r2)) if r2>1e-12 else (const.pi/2.0 if xyz_pos[2]>0.0 else -const.pi/2.0)\n",
    "    llh[1]= math.atan2(xyz_pos[1],xyz_pos[0]) if r2>1e-12 else 0.0\n",
    "    llh[2]= math.sqrt(r2+z*z)-v\n",
    "\n",
    "    return llh\n",
    "# calculate the average earth radius at ECEF point\n",
    "def earth_radius(xyz_pos):\n",
    "    # WGS-84 constants\n",
    "    a = 6378137.0;              #   WGS-84 equatorial radius (m).                            \n",
    "    f = 1/298.257223563;        #   WGS-84 Flattening.\n",
    "    e2 = f*(2.0-f);             #  e**2\n",
    "    \n",
    "    distance=norm(xyz_pos);\n",
    "    theta=math.asin(xyz_pos[2]/distance);\n",
    "    temp=1-e2*math.cos(theta)**2;\n",
    "    \n",
    "    return a*math.sqrt((1-e2)/temp)\n",
    "# calculate the average earth radius at ECEF point\n",
    "def RT2S(r_pos,t_pos):\n",
    "    # calcuation of earth radius of r_pos\n",
    "    r_pos=np.array(r_pos);\n",
    "    t_pos=np.array(t_pos);\n",
    "    radius=earth_radius(r_pos);\n",
    "    s=s_temp=r_pos*(radius/norm(r_pos));\n",
    "    \n",
    "    k=corr=1e4;\n",
    "    itera=1;\n",
    "    while(corr>1e-3):\n",
    "        unit_vector_S2R=(r_pos-s)/norm(r_pos-s);\n",
    "        unit_vector_S2T=(t_pos-s)/norm(t_pos-s);\n",
    "        mid_vector=unit_vector_S2R+unit_vector_S2T;\n",
    "        s_temp=s+k*mid_vector\n",
    "        # constain to earth surface\n",
    "        r=earth_radius(s_temp);\n",
    "        s_temp=(s_temp/norm(s_temp))*r;\n",
    "        corr=abs(norm(s_temp-s));\n",
    "        # new specular point\n",
    "        s=s_temp;\n",
    "        # adjust gain\n",
    "        k=10000 if (corr>10) else 1000;\n",
    "        itera+=1;\n",
    "        if itera>1e4:break\n",
    "    # test Snell's Law\n",
    "    unit_vector_S2R=(r_pos-s)/norm(r_pos-s);\n",
    "    unit_vector_S2T=(t_pos-s)/norm(t_pos-s);\n",
    "    unit_vector_S=s/norm(s);\n",
    "    incidence=math.acos(np.dot(unit_vector_S2T,unit_vector_S))\n",
    "    reflectation=math.acos(np.dot(unit_vector_S2R,unit_vector_S))\n",
    "    diff_angle=abs(incidence-reflectation)*180/const.pi*3600\n",
    "    return s\n",
    "def ecef2srcs(Rr,Rt,Rs,v):\n",
    "    z=Rs/norm(Rs)\n",
    "    "
   ]
  },
  {
   "cell_type": "code",
   "execution_count": 9,
   "metadata": {},
   "outputs": [
    {
     "name": "stdout",
     "output_type": "stream",
     "text": [
      "[-3560138.7832221  -3226742.91309339  4180477.42776175]\n"
     ]
    },
    {
     "ename": "TypeError",
     "evalue": "init() takes 2 positional arguments but 3 were given",
     "output_type": "error",
     "traceback": [
      "\u001b[0;31m---------------------------------------------------------------------------\u001b[0m",
      "\u001b[0;31mTypeError\u001b[0m                                 Traceback (most recent call last)",
      "\u001b[0;32m<ipython-input-9-52142388b0ca>\u001b[0m in \u001b[0;36m<module>\u001b[0;34m()\u001b[0m\n\u001b[1;32m      3\u001b[0m \u001b[1;33m\u001b[0m\u001b[0m\n\u001b[1;32m      4\u001b[0m \u001b[0mprint\u001b[0m\u001b[1;33m(\u001b[0m\u001b[0mRT2S\u001b[0m\u001b[1;33m(\u001b[0m\u001b[0mRr\u001b[0m\u001b[1;33m,\u001b[0m\u001b[0mRt\u001b[0m\u001b[1;33m)\u001b[0m\u001b[1;33m)\u001b[0m\u001b[1;33m\u001b[0m\u001b[0m\n\u001b[0;32m----> 5\u001b[0;31m \u001b[0mprint\u001b[0m\u001b[1;33m(\u001b[0m\u001b[0minit\u001b[0m\u001b[1;33m(\u001b[0m\u001b[1;36m1\u001b[0m\u001b[1;33m,\u001b[0m\u001b[1;36m2\u001b[0m\u001b[1;33m,\u001b[0m\u001b[1;36m5\u001b[0m\u001b[1;33m)\u001b[0m\u001b[1;33m)\u001b[0m\u001b[1;33m\u001b[0m\u001b[0m\n\u001b[0m\u001b[1;32m      6\u001b[0m \u001b[0mprint\u001b[0m\u001b[1;33m(\u001b[0m\u001b[0minit\u001b[0m\u001b[1;33m(\u001b[0m\u001b[1;36m1\u001b[0m\u001b[1;33m,\u001b[0m\u001b[1;36m2\u001b[0m\u001b[1;33m,\u001b[0m\u001b[1;36m4\u001b[0m\u001b[1;33m)\u001b[0m\u001b[1;33m)\u001b[0m\u001b[1;33m\u001b[0m\u001b[0m\n",
      "\u001b[0;31mTypeError\u001b[0m: init() takes 2 positional arguments but 3 were given"
     ]
    }
   ],
   "source": [
    "Rt=-4069896.7033860330,-3583236.9637350840,4527639.2717581640  # postion of transimiter in WGS-84 reference frame\n",
    "Rr=-11178792.991294,-13160191.204988,20341528.127540         # postion of rreceiver in WGS-84 reference frame\n",
    "\n",
    "print(RT2S(Rr,Rt))\n"
   ]
  },
  {
   "cell_type": "code",
   "execution_count": null,
   "metadata": {},
   "outputs": [],
   "source": []
  }
 ],
 "metadata": {
  "kernelspec": {
   "display_name": "Python 3",
   "language": "python",
   "name": "python3"
  },
  "language_info": {
   "codemirror_mode": {
    "name": "ipython",
    "version": 3
   },
   "file_extension": ".py",
   "mimetype": "text/x-python",
   "name": "python",
   "nbconvert_exporter": "python",
   "pygments_lexer": "ipython3",
   "version": "3.6.0"
  }
 },
 "nbformat": 4,
 "nbformat_minor": 2
}
